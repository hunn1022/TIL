{
  "nbformat": 4,
  "nbformat_minor": 0,
  "metadata": {
    "colab": {
      "name": "라이브러리.ipynb",
      "provenance": [],
      "collapsed_sections": [],
      "authorship_tag": "ABX9TyOVBojHVgy9LJ8ZdM6Uxx8q",
      "include_colab_link": true
    },
    "kernelspec": {
      "name": "python3",
      "display_name": "Python 3"
    },
    "language_info": {
      "name": "python"
    }
  },
  "cells": [
    {
      "cell_type": "markdown",
      "metadata": {
        "id": "view-in-github",
        "colab_type": "text"
      },
      "source": [
        "<a href=\"https://colab.research.google.com/github/hunn1022/TIL/blob/main/%EB%9D%BC%EC%9D%B4%EB%B8%8C%EB%9F%AC%EB%A6%AC.ipynb\" target=\"_parent\"><img src=\"https://colab.research.google.com/assets/colab-badge.svg\" alt=\"Open In Colab\"/></a>"
      ]
    },
    {
      "cell_type": "markdown",
      "source": [
        "# 필수라이브러리 \n",
        "- numpy\n",
        "- pandas\n"
      ],
      "metadata": {
        "id": "nCTgLPUAsUYS"
      }
    },
    {
      "cell_type": "markdown",
      "source": [
        "## Numpy \n",
        "- 파이썬 철저입문\n",
        "\n",
        "수치해석용으로 만들어진 모듈이라고 보면 됩니다. \n",
        "- 머닝러신과 같은 데이터 분석을 위해 만들어진 것은 아니다. 분야 막론하고 연구실에서 많이 사용한다. \n",
        "- Pandas도 자료의 기본 타입은 numpy를 사용한다. \n",
        "\n",
        "`수학적 계산을 돕기 위한 라이브러리`\n",
        "## Numpy\n",
        "\n",
        "- 파이썬 철저입문\n",
        "\n",
        "수치해석용으로 만들어진 모듈이라고 보면 됩니다.\n",
        "\n",
        "- 머닝러신과 같은 데이터 분석을 위해 만들어진 것은 아니다. 분야 막론하고 연구실에서 많이 사용한다.\n",
        "- Pandas도 자료의 기본 타입은 numpy를 사용한다.\n",
        "\n",
        "```python\n",
        "수학적 계산을 돕기 위한 라이브러리\n",
        "```\n",
        "\n",
        "import numpy as np\n",
        "\n",
        "####  넘파이에서 지원하는 타입 \n",
        "\n",
        "1. array(배열)\n",
        "   - 주로 통계분석이나, 머신러닝 딥러닝에서 사용\n",
        "   - 파이썬의 리스트와는 다르다 \n",
        "   - 개념정도만 살펴보고 넘어갈 것이다\n",
        "2.  matrix\n",
        "   - 수학적 계산이 필요한 경우에 많이 사용한다. 수업시간에는 사용하지 않는다. \n",
        "\n",
        "#### 배열의 기본 속성 \n",
        "\n",
        "- ndim : 주어진 배열의 차원\n",
        "- shape: 주어진 배열의 크기. 배열의 크기는 원소의 개수\n",
        "  -  1차원 배열이라면 행이1이고, 열이 n인 배열을 의미. \n",
        "  - 배열의 모양은 `튜플`로 표현된다.\n",
        "\n",
        "#### 1차원 배열 \n",
        "\n",
        "- 파이썬의 리스트와 거의 동일\n",
        "  - arr1D= np.array([1,2,3,4])\n",
        "    - 리스트를 원소로 하는 배열객체로 이해하자. \n",
        "  - 자료의 차원을 확인하는 것은 매우 중요하다. `차원이 다르면 알고리즘이 동작하지 않게 된다` 물론 알고리즘을 직접 만들지 않고, 만들어진 것을 사용하겠지만 `반드시 차원을 고려해서 사용해야 한다`\n",
        "    - 배열의 차원 확인법 : ` arr1D.ndim`\n",
        "    - 배멸의 크기 확인법 :`arr1D.shape`\n",
        "\n",
        "#### 2차원 배열\n",
        "\n",
        "```\n",
        "주로 다루게 되는 배열은 2차원이다. 자료가 대부분 2차원이기 때문이다. 2차원을 넘어가는 경우는 드물다\n",
        "\n",
        "```\n",
        "\n",
        "`arr2D.ndim`\n",
        "\n",
        "`arr2D.shape`\n",
        "\n",
        "1. 앞 숫자은 자료의 갯수\n",
        "2. 열은 변수의 갯수\n",
        "\n",
        "#### 1차원 배열의 인덱싱과 슬라이싱 \n",
        "\n",
        "- 리스트와 비슷한데, 표현은 다르다. \n",
        "- 기본 개념은 리스트와 동일하다. \n",
        "  - `배열도 이터레이블 객체이므로 반복문 사용 가능하다` \n",
        "  - 리스트가 아니기 때문에 리스드에서 제공하는 메소드는 사용할 수 없다. ex) sort, reverse\n",
        "    - 그럼에도 내장 함수는 사용 가능하다.  ex) min(), max() \n",
        "  - 슬라이스도 리스트와 동일하게 사용 가능하다. \n",
        "    - display( arr1D[:])\n",
        "    - display( arr1D[::-1] )\n",
        "\n",
        "#### 2차원 배열의 인덱싱과 슬라이싱\n",
        "\n",
        "- 인덱싱은 다음과 같이 표현된다.\n",
        "\n",
        "  - 리스트에서와 마찬가지로 행과 열을 표현한다 \n",
        "\n",
        "    ```\n",
        "    하지만 array[행,열] 과 같이 표현한다. \n",
        "    ```\n",
        "\n",
        "  - 슬라이스는 행과 열을 각각 정의할 수 있다. \n",
        "\n",
        "    ```\n",
        "    array[행시작: 행끝, 열시작: 열끝]\n",
        "    ```\n",
        "\n",
        "- 배열은 행우선 인덱스를 제공한다. 따라서 `열만 인덱싱 할 수 없고 슬라이스를 활용해야 한다`\n",
        "\n",
        "  - display( arreD[0]) 이 경우 숫자 0을 행으로 인식한다.\n",
        "  - 판다스는 열 우선 인덱스를 제공한다. \n",
        "\n",
        "- 슬라이스를 잘 활용하면 행과 열을 동시에 슬라이스 할 수 있다. \n",
        "\n",
        "  - display\n",
        "\n",
        "  "
      ],
      "metadata": {
        "id": "nuMBsFSvssxm"
      }
    },
    {
      "cell_type": "code",
      "source": [
        "import numpy as np"
      ],
      "metadata": {
        "id": "KRI0nQCt3_yN"
      },
      "execution_count": 2,
      "outputs": []
    },
    {
      "cell_type": "code",
      "source": [
        "arrN= np.arange(1,31).reshape(3,10)\n",
        "arrN"
      ],
      "metadata": {
        "colab": {
          "base_uri": "https://localhost:8080/"
        },
        "id": "h5ySxjyV3oqG",
        "outputId": "bf8f0622-11e9-4fce-a0fa-c5042fc27ed1"
      },
      "execution_count": 8,
      "outputs": [
        {
          "output_type": "execute_result",
          "data": {
            "text/plain": [
              "array([[ 1,  2,  3,  4,  5,  6,  7,  8,  9, 10],\n",
              "       [11, 12, 13, 14, 15, 16, 17, 18, 19, 20],\n",
              "       [21, 22, 23, 24, 25, 26, 27, 28, 29, 30]])"
            ]
          },
          "metadata": {},
          "execution_count": 8
        }
      ]
    },
    {
      "cell_type": "code",
      "source": [
        "#16\n",
        "#display( arrN[1,5])\n",
        "#29\n",
        "#display( arrN[2,8])\n",
        "#14,15,16\n",
        "#display( arrN[1, 3:6])\n",
        "#9,10,19,20\n",
        "display( arrN[:2, 8:])\n",
        "\n",
        "d"
      ],
      "metadata": {
        "colab": {
          "base_uri": "https://localhost:8080/",
          "height": 72
        },
        "id": "Ihg6tIo0t153",
        "outputId": "0ea27149-9794-4658-8a86-ed19d1056778"
      },
      "execution_count": 17,
      "outputs": [
        {
          "output_type": "display_data",
          "data": {
            "text/plain": [
              "array([[ 9, 10],\n",
              "       [19, 20]])"
            ]
          },
          "metadata": {}
        },
        {
          "output_type": "display_data",
          "data": {
            "text/plain": [
              "array([[14, 15]])"
            ]
          },
          "metadata": {}
        }
      ]
    },
    {
      "cell_type": "code",
      "source": [
        "np.arange(1,2,0.1)"
      ],
      "metadata": {
        "colab": {
          "base_uri": "https://localhost:8080/"
        },
        "id": "kAAAc6t3H3ax",
        "outputId": "cea2f0a9-cf96-4e10-82d2-76cc3948f7e5"
      },
      "execution_count": 18,
      "outputs": [
        {
          "output_type": "execute_result",
          "data": {
            "text/plain": [
              "array([1. , 1.1, 1.2, 1.3, 1.4, 1.5, 1.6, 1.7, 1.8, 1.9])"
            ]
          },
          "metadata": {},
          "execution_count": 18
        }
      ]
    },
    {
      "cell_type": "code",
      "source": [
        "arr=np.arange(1,45)\n",
        "np.random.choice(arr, size=6, replace=False)"
      ],
      "metadata": {
        "colab": {
          "base_uri": "https://localhost:8080/"
        },
        "id": "HUtuwAGlLCyN",
        "outputId": "6a004c6e-4f6e-41e0-c947-275a2504c3b8"
      },
      "execution_count": 20,
      "outputs": [
        {
          "output_type": "execute_result",
          "data": {
            "text/plain": [
              "array([38, 16, 20, 33, 37,  1])"
            ]
          },
          "metadata": {},
          "execution_count": 20
        }
      ]
    },
    {
      "cell_type": "markdown",
      "source": [
        "- #### 팬시 인덱싱\n",
        "\n",
        "- 인덱스로 배열을 사용\n",
        "  - 불리언 배열: 불리언으로 이루어진 배열\n",
        "    - 배열에서 참인 값만 선택한다. 즉, 불리언 배열을 조건에 부합하는 결과만 선택할 수 있도록 하는 것이다. \n",
        "  - 정수 배열\n",
        "\n",
        "#### 배열의 타입 \n",
        "\n",
        "- 리스트와는 다르게 배열은 타입을 가지니다.\n",
        "  - 리스트는 여러개의 타입을 원소로 가질 수 있지만, 배열은 하나의 타입만 원소로 갖는다. \n",
        "- 배열은 배열이 생성될 때, 원소들의 타입을 보고 기본적인 자료의 타입을 결정.\n",
        "\n",
        "\n",
        "\n",
        "`arr1D.dtype`\n",
        "\n",
        "- 파이썬은 숫자를 표현하는데 한계가 없다. 하지만 라이브러리들은 파이썬 만으로 동작하지 않는다. 속도를 빠르게 하기 위해서 c, c++ 등으로 만들어진 내용도 파이썬에서는 사용 가능. 하지만 라이브러리는 한계가 있다. \n",
        "- 원소의 타입이 여러개라면 가장 큰 타입을 기본 타입으로 결정한다. \n",
        "  - `텐서플로우를 사용하는 경우 자료의 차원과 타입에 매우 민감하기 때문에 중요`\n",
        "- 배열을 생성할 때 타입을 직접 결정한다. \n",
        "\n",
        "### 넘파이에서만 정의되는 특별한 타입 \n",
        "\n",
        "- 파이썬은 이런 타입을 갖지 않는다. \n",
        "- inf\n",
        "  - 표현할 수 없는 값\n",
        "  - 함수가 수렴하지 않고 발산하는 경우 \n",
        "- NaN(Not a Number)\n",
        "  - 결측치(비어있는 값)\n",
        "  - 값을 표현할 수 없는 경우\n",
        "\n",
        "### 초기화된 배열 \n",
        "\n",
        " - 0과 1만 특별히 취급\n",
        " - 원소가 전부 0이거나, 전부 1인 경우 선형대수에서는 특별하게 취급 \n",
        "\n",
        "`np.zeros()`\n",
        "\n",
        "- 기본 타입은 실수지만 정수로도 변경 가능\n",
        "  - `np.zeros(10, dtype= np.int)`\n",
        "\n",
        "### 수열을 생성하는 방법\n",
        "\n",
        "- range와 같은 역할 \n",
        "- arange는 실수에 대한 수열도 만들 수 있지만, range는 자연수만 가능\n",
        "  - 그래서 보통 numPy 에서는 arange를 자주 사용하는것 같다. \n",
        "  - `np.array([1,2,3,4,5,6,7])`\n",
        "\n",
        "![image-20211208171913914](C:\\Users\\lg\\AppData\\Roaming\\Typora\\typora-user-images\\image-20211208171913914.png)\n",
        "\n",
        "​\t- "
      ],
      "metadata": {
        "id": "-w8tgO0Ld7Te"
      }
    },
    {
      "cell_type": "code",
      "source": [
        ""
      ],
      "metadata": {
        "id": "M4gST6bmd9F2"
      },
      "execution_count": null,
      "outputs": []
    }
  ]
}