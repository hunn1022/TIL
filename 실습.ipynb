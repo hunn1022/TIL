{
  "nbformat": 4,
  "nbformat_minor": 0,
  "metadata": {
    "colab": {
      "name": "실습.ipynb",
      "provenance": [],
      "authorship_tag": "ABX9TyPoOHBTKeNZgBY0kVZNuCxE",
      "include_colab_link": true
    },
    "kernelspec": {
      "display_name": "Python 3",
      "name": "python3"
    },
    "language_info": {
      "name": "python"
    }
  },
  "cells": [
    {
      "cell_type": "markdown",
      "metadata": {
        "id": "view-in-github",
        "colab_type": "text"
      },
      "source": [
        "<a href=\"https://colab.research.google.com/github/hunn1022/TIL/blob/main/%EC%8B%A4%EC%8A%B5.ipynb\" target=\"_parent\"><img src=\"https://colab.research.google.com/assets/colab-badge.svg\" alt=\"Open In Colab\"/></a>"
      ]
    },
    {
      "cell_type": "markdown",
      "metadata": {
        "id": "xPRUnXTJpAzP"
      },
      "source": [
        "#알고리즘 풀이\n",
        "- 기초적인 코딩 과정을 익히기 위해서 사용\n",
        " - 핵심!! 반복문과 리스트. 제일 익히기 어렵고, 제일 많이 쓰는 것.\n",
        "  - 반복문과 리스트 다루는 것만 잘 배워도 좋음. \n",
        "  - 여기서 확장하면 코딩 테스트를 준비하는 용도까지 사용된다. \n",
        "\n",
        "- 실습 사이트\n",
        "  - [백준](http://www.acmicpc.net) 코딩 테스트를 위해서 활용하면 좋은 사이트\n",
        "    - 난이도 별로 다양하게 문제들이 준비되어 있다.\n",
        "    - 초보자부터 숙련자까지 활용 가능\n",
        "  - [코드업](http://codeup.kr/index.php): 학생들을 위한 사이트\n",
        "    - 초보자를 위한 문제들 다수 준비\n",
        "\n",
        "  - [프로그래머스](https://programmers.co.kr/)\n",
        "    - 코딩 테스트를 위한 사이트, 기출 문제들이 잘 모여있는 사이트\n",
        "\n",
        "  \n"
      ]
    },
    {
      "cell_type": "code",
      "metadata": {
        "colab": {
          "base_uri": "https://localhost:8080/"
        },
        "id": "L_meFr3Awiwg",
        "outputId": "769c4d39-85b9-4142-da2f-7f3faccd92ac"
      },
      "source": [
        "print('\\\"!@#$%^&*()\\'')"
      ],
      "execution_count": null,
      "outputs": [
        {
          "name": "stdout",
          "output_type": "stream",
          "text": [
            "\"!@#$%^&*()'\n"
          ]
        }
      ]
    },
    {
      "cell_type": "code",
      "metadata": {
        "colab": {
          "base_uri": "https://localhost:8080/"
        },
        "id": "-ehKKinB0E-F",
        "outputId": "0b063b55-5f2a-44d7-cc7b-dbaaf5a38bc9"
      },
      "source": [
        "print('\\\"C:\\\\Download\\\\\\'hello\\'.py\\\"')"
      ],
      "execution_count": null,
      "outputs": [
        {
          "name": "stdout",
          "output_type": "stream",
          "text": [
            "\"C:\\Download\\'hello'.py\"\n"
          ]
        }
      ]
    },
    {
      "cell_type": "markdown",
      "metadata": {
        "id": "vXczIWi_pk21"
      },
      "source": [
        "##"
      ]
    },
    {
      "cell_type": "code",
      "metadata": {
        "colab": {
          "base_uri": "https://localhost:8080/"
        },
        "id": "giYWbJ6To836",
        "outputId": "b7b9db55-5bc2-439d-e3bf-f21713da1afb"
      },
      "source": [
        "print('print(\"Hello\\\\nWorld\")')"
      ],
      "execution_count": null,
      "outputs": [
        {
          "name": "stdout",
          "output_type": "stream",
          "text": [
            "print(\"Hello\\nWorld\")\n"
          ]
        }
      ]
    },
    {
      "cell_type": "code",
      "metadata": {
        "colab": {
          "base_uri": "https://localhost:8080/"
        },
        "id": "Yo-J8AIh3ipG",
        "outputId": "1f7d83fc-a4ee-4fd6-9da4-f1ae82410d9a"
      },
      "source": [
        "c= input('a')"
      ],
      "execution_count": null,
      "outputs": [
        {
          "name": "stdout",
          "output_type": "stream",
          "text": [
            "a1\n"
          ]
        }
      ]
    },
    {
      "cell_type": "code",
      "metadata": {
        "id": "TkHOvWu43nyf"
      },
      "source": [
        "c='a'"
      ],
      "execution_count": null,
      "outputs": []
    },
    {
      "cell_type": "code",
      "metadata": {
        "colab": {
          "base_uri": "https://localhost:8080/"
        },
        "id": "YH5mMnNi5bau",
        "outputId": "b4787b28-3a75-4d9e-f3e1-b9dd68f1051e"
      },
      "source": [
        "print(c)"
      ],
      "execution_count": null,
      "outputs": [
        {
          "name": "stdout",
          "output_type": "stream",
          "text": [
            "a\n"
          ]
        }
      ]
    },
    {
      "cell_type": "code",
      "metadata": {
        "colab": {
          "base_uri": "https://localhost:8080/"
        },
        "id": "yAwdI_dV7wcU",
        "outputId": "0c833b49-020a-47e9-943c-220cac0b06b0"
      },
      "source": [
        "n=float(input())"
      ],
      "execution_count": null,
      "outputs": [
        {
          "name": "stdout",
          "output_type": "stream",
          "text": [
            "3.5\n"
          ]
        }
      ]
    },
    {
      "cell_type": "code",
      "metadata": {
        "colab": {
          "base_uri": "https://localhost:8080/"
        },
        "id": "-srdqfQh72cp",
        "outputId": "5b8bfa19-d9ca-4d90-ac72-d0e63cfb8c78"
      },
      "source": [
        "n\n"
      ],
      "execution_count": null,
      "outputs": [
        {
          "data": {
            "text/plain": [
              "3.5"
            ]
          },
          "execution_count": 27,
          "metadata": {},
          "output_type": "execute_result"
        }
      ]
    },
    {
      "cell_type": "code",
      "metadata": {
        "id": "p-r3jUmn8S7p"
      },
      "source": [
        "a=10\n",
        "b=10"
      ],
      "execution_count": null,
      "outputs": []
    },
    {
      "cell_type": "code",
      "metadata": {
        "colab": {
          "base_uri": "https://localhost:8080/"
        },
        "id": "le13GXeN8B53",
        "outputId": "59724782-8ed7-4362-90bd-44a6803e4ea5"
      },
      "source": [
        "a,b=map(int,input().split())\n",
        "print(a)\n",
        "print(b)"
      ],
      "execution_count": null,
      "outputs": [
        {
          "name": "stdout",
          "output_type": "stream",
          "text": [
            "10 20\n",
            "10 20\n"
          ]
        }
      ]
    },
    {
      "cell_type": "code",
      "metadata": {
        "colab": {
          "base_uri": "https://localhost:8080/"
        },
        "id": "sYW7-ui99Gzl",
        "outputId": "f7ecaa38-69b0-4462-fbdd-0b9c2690afd0"
      },
      "source": [
        "a,b,c=input().split()"
      ],
      "execution_count": null,
      "outputs": [
        {
          "name": "stdout",
          "output_type": "stream",
          "text": [
            "10 20 30\n"
          ]
        }
      ]
    },
    {
      "cell_type": "code",
      "metadata": {
        "colab": {
          "base_uri": "https://localhost:8080/"
        },
        "id": "9qXE471P9sJv",
        "outputId": "98de92be-b868-4d1f-9648-0559c0a41cf1"
      },
      "source": [
        "print(b,a,c\n",
        ")"
      ],
      "execution_count": null,
      "outputs": [
        {
          "name": "stdout",
          "output_type": "stream",
          "text": [
            "20 10 30\n"
          ]
        }
      ]
    },
    {
      "cell_type": "code",
      "metadata": {
        "colab": {
          "base_uri": "https://localhost:8080/"
        },
        "id": "rdVZaWJsAq7o",
        "outputId": "1893a9e1-da42-4d89-a511-a8551e4b0a54"
      },
      "source": [
        "s=int(input())"
      ],
      "execution_count": null,
      "outputs": [
        {
          "name": "stdout",
          "output_type": "stream",
          "text": [
            "1\n"
          ]
        }
      ]
    },
    {
      "cell_type": "code",
      "metadata": {
        "colab": {
          "base_uri": "https://localhost:8080/"
        },
        "id": "TU8iszxuAwsS",
        "outputId": "bd7d7628-f084-45f7-f9fc-e9e8538de59c"
      },
      "source": [
        "print(s,s,s)"
      ],
      "execution_count": null,
      "outputs": [
        {
          "name": "stdout",
          "output_type": "stream",
          "text": [
            "1 1 1\n"
          ]
        }
      ]
    },
    {
      "cell_type": "code",
      "metadata": {
        "colab": {
          "base_uri": "https://localhost:8080/"
        },
        "id": "JYOqNzC9CEsF",
        "outputId": "3f725aa7-3213-4e2b-93ac-ea20e3e06918"
      },
      "source": [
        "a,b=input().split(sep=':')"
      ],
      "execution_count": null,
      "outputs": [
        {
          "name": "stdout",
          "output_type": "stream",
          "text": [
            "24:14\n"
          ]
        }
      ]
    },
    {
      "cell_type": "code",
      "metadata": {
        "colab": {
          "base_uri": "https://localhost:8080/"
        },
        "id": "xbkrVlzaCOcB",
        "outputId": "91c08fe9-6f80-47eb-a4a3-cafca48022ef"
      },
      "source": [
        "print(a,b,sep=':')"
      ],
      "execution_count": null,
      "outputs": [
        {
          "name": "stdout",
          "output_type": "stream",
          "text": [
            "24:14\n"
          ]
        }
      ]
    },
    {
      "cell_type": "code",
      "metadata": {
        "id": "K3dWU9wqC2Lm"
      },
      "source": [
        "y,m,d='2020.3.4'.split('.')"
      ],
      "execution_count": null,
      "outputs": []
    },
    {
      "cell_type": "code",
      "metadata": {
        "colab": {
          "base_uri": "https://localhost:8080/"
        },
        "id": "MkD7LHquDAg8",
        "outputId": "8e3a4059-2338-46f1-8acd-1ba176408864"
      },
      "source": [
        "print(d,m,y,sep='.')"
      ],
      "execution_count": null,
      "outputs": [
        {
          "name": "stdout",
          "output_type": "stream",
          "text": [
            "4.3.2020\n"
          ]
        }
      ]
    },
    {
      "cell_type": "code",
      "metadata": {
        "colab": {
          "base_uri": "https://localhost:8080/"
        },
        "id": "0-wUwx_MGG7y",
        "outputId": "30f35108-43cb-41bb-bf9b-deadfeb2f357"
      },
      "source": [
        "y,m,d=input().split('.')"
      ],
      "execution_count": null,
      "outputs": [
        {
          "name": "stdout",
          "output_type": "stream",
          "text": [
            "2020.02.04\n"
          ]
        }
      ]
    },
    {
      "cell_type": "code",
      "metadata": {
        "colab": {
          "base_uri": "https://localhost:8080/"
        },
        "id": "L1oy52Q6KDc8",
        "outputId": "dd0e5416-ee84-41a5-cc58-1529cd265170"
      },
      "source": [
        "t,m,s= '17:23:57'.split(':')\n",
        "print(m)"
      ],
      "execution_count": null,
      "outputs": [
        {
          "name": "stdout",
          "output_type": "stream",
          "text": [
            "23\n"
          ]
        }
      ]
    },
    {
      "cell_type": "code",
      "metadata": {
        "colab": {
          "base_uri": "https://localhost:8080/",
          "height": 35
        },
        "id": "uziB8tRELYyY",
        "outputId": "1118ed9e-72da-458b-bc0f-41aac02c8c1b"
      },
      "source": [
        "'17:23:57'.split(':')[1]"
      ],
      "execution_count": null,
      "outputs": [
        {
          "data": {
            "application/vnd.google.colaboratory.intrinsic+json": {
              "type": "string"
            },
            "text/plain": [
              "'23'"
            ]
          },
          "execution_count": 86,
          "metadata": {},
          "output_type": "execute_result"
        }
      ]
    },
    {
      "cell_type": "code",
      "metadata": {
        "colab": {
          "base_uri": "https://localhost:8080/"
        },
        "id": "pEo8MY7MLk9z",
        "outputId": "152d5858-4b14-4517-b9a7-d3771bf07585"
      },
      "source": [
        "read=input()"
      ],
      "execution_count": null,
      "outputs": [
        {
          "name": "stdout",
          "output_type": "stream",
          "text": [
            "17:23:57\n"
          ]
        }
      ]
    },
    {
      "cell_type": "code",
      "metadata": {
        "colab": {
          "background_save": true,
          "base_uri": "https://localhost:8080/"
        },
        "id": "GPi_qB-bLs5c",
        "outputId": "ff040352-2031-4ca4-efdc-1882b2b88147"
      },
      "source": [
        "print(read.split(':')[1])"
      ],
      "execution_count": null,
      "outputs": [
        {
          "name": "stdout",
          "output_type": "stream",
          "text": [
            "23\n"
          ]
        }
      ]
    },
    {
      "cell_type": "markdown",
      "metadata": {
        "id": "MpEYgR9VMdh6"
      },
      "source": [
        "## 6027\n",
        "파이썬에서는 hex() 함수를 이용.\n",
        "문자열 포맷팅을 이용해서도 출력 가능\n",
        "- fstring, format"
      ]
    },
    {
      "cell_type": "code",
      "metadata": {
        "colab": {
          "base_uri": "https://localhost:8080/",
          "height": 35
        },
        "id": "bIEko2voMrD1",
        "outputId": "7f6e6b3b-45e6-41c4-b209-4f435c29a3f9"
      },
      "source": [
        "hex(10)"
      ],
      "execution_count": null,
      "outputs": [
        {
          "output_type": "execute_result",
          "data": {
            "application/vnd.google.colaboratory.intrinsic+json": {
              "type": "string"
            },
            "text/plain": [
              "'0xa'"
            ]
          },
          "metadata": {},
          "execution_count": 2
        }
      ]
    },
    {
      "cell_type": "code",
      "metadata": {
        "colab": {
          "base_uri": "https://localhost:8080/",
          "height": 35
        },
        "id": "ET9j6G3pMuhI",
        "outputId": "5e9836e9-c57b-4b4f-eacb-b5dd89a4b8e9"
      },
      "source": [
        "'{:x}'.format(10)"
      ],
      "execution_count": null,
      "outputs": [
        {
          "output_type": "execute_result",
          "data": {
            "application/vnd.google.colaboratory.intrinsic+json": {
              "type": "string"
            },
            "text/plain": [
              "'a'"
            ]
          },
          "metadata": {},
          "execution_count": 4
        }
      ]
    },
    {
      "cell_type": "code",
      "metadata": {
        "colab": {
          "base_uri": "https://localhost:8080/",
          "height": 35
        },
        "id": "XBNBegAXNLRI",
        "outputId": "3b776a9d-ea18-4c67-d949-ad57002b97a1"
      },
      "source": [
        "f'{10:x}'"
      ],
      "execution_count": null,
      "outputs": [
        {
          "output_type": "execute_result",
          "data": {
            "application/vnd.google.colaboratory.intrinsic+json": {
              "type": "string"
            },
            "text/plain": [
              "'a'"
            ]
          },
          "metadata": {},
          "execution_count": 5
        }
      ]
    },
    {
      "cell_type": "code",
      "metadata": {
        "colab": {
          "base_uri": "https://localhost:8080/"
        },
        "id": "nR0N5CfHN30V",
        "outputId": "5ab0de4b-af9f-46af-8a99-3be9d558fe76"
      },
      "source": [
        "a= int(input())\n",
        "print(f'{a:x}')"
      ],
      "execution_count": null,
      "outputs": [
        {
          "output_type": "stream",
          "name": "stdout",
          "text": [
            "255\n",
            "ff\n"
          ]
        }
      ]
    },
    {
      "cell_type": "markdown",
      "metadata": {
        "id": "xY9YLCsxOdIy"
      },
      "source": [
        "## 6028 \n",
        "6027과 동일한 문제\n",
        "- 대문자 x법을 사용하거나 \n",
        "- hex를 이용하는 경우 문자열로도 처리 가능 "
      ]
    },
    {
      "cell_type": "code",
      "metadata": {
        "colab": {
          "base_uri": "https://localhost:8080/"
        },
        "id": "IvAiCsAFOoUx",
        "outputId": "b2bddd25-5802-4b91-c29b-ea1175390712"
      },
      "source": [
        "a = int(input())\n",
        "print(hex(a)[2:])\n"
      ],
      "execution_count": null,
      "outputs": [
        {
          "output_type": "stream",
          "name": "stdout",
          "text": [
            "255\n",
            "ff\n"
          ]
        }
      ]
    },
    {
      "cell_type": "markdown",
      "metadata": {
        "id": "oeEnGO6fS1Ze"
      },
      "source": [
        "## 6029\n",
        "16진수 입력받아 8진수로 출력하기 \n",
        "- 알파벳 'o' 를 사용하여 변환 \n",
        "- oct()\n",
        "- f-strint, format을 사용할 때는 'o'를 사용해서 출력 포맷 지정 가능."
      ]
    },
    {
      "cell_type": "code",
      "metadata": {
        "colab": {
          "base_uri": "https://localhost:8080/"
        },
        "id": "mAaMezJvURFb",
        "outputId": "2f0417dc-7c88-490d-a840-adcd3c4458d3"
      },
      "source": [
        "a= int(input())\n",
        "print(f'{a:o}')"
      ],
      "execution_count": null,
      "outputs": [
        {
          "output_type": "stream",
          "name": "stdout",
          "text": [
            "255\n",
            "377\n"
          ]
        }
      ]
    },
    {
      "cell_type": "markdown",
      "metadata": {
        "id": "itIb5cf0U90w"
      },
      "source": [
        "int('a', base=16)\n"
      ]
    },
    {
      "cell_type": "code",
      "metadata": {
        "colab": {
          "base_uri": "https://localhost:8080/"
        },
        "id": "JI6NA9JEVIZG",
        "outputId": "9d598ad2-de00-4f7b-8600-9888634a3fd0"
      },
      "source": [
        "int('a', base=16)"
      ],
      "execution_count": null,
      "outputs": [
        {
          "output_type": "execute_result",
          "data": {
            "text/plain": [
              "10"
            ]
          },
          "metadata": {},
          "execution_count": 12
        }
      ]
    },
    {
      "cell_type": "code",
      "metadata": {
        "colab": {
          "base_uri": "https://localhost:8080/"
        },
        "id": "KPd6RxxUVO1B",
        "outputId": "54ea0d06-5214-4ba3-c46c-47fa9bad23f8"
      },
      "source": [
        "a= int(input(), base=16)\n",
        "print(f'{a:o}')"
      ],
      "execution_count": null,
      "outputs": [
        {
          "output_type": "stream",
          "name": "stdout",
          "text": [
            "255\n",
            "1125\n"
          ]
        }
      ]
    },
    {
      "cell_type": "markdown",
      "metadata": {
        "id": "s0mgA85UV5YJ"
      },
      "source": [
        "## 6030\n",
        "- 영문자 1개를 입력 받아서 아스키 코드 값 출력\n",
        "- 파이썬에서는 ord() 함수 사용"
      ]
    },
    {
      "cell_type": "code",
      "metadata": {
        "colab": {
          "base_uri": "https://localhost:8080/"
        },
        "id": "3-VmCK6nWCyN",
        "outputId": "3c3ae026-8a9e-449e-8020-3714ca4f1cf2"
      },
      "source": [
        "ord('a')"
      ],
      "execution_count": null,
      "outputs": [
        {
          "output_type": "execute_result",
          "data": {
            "text/plain": [
              "97"
            ]
          },
          "metadata": {},
          "execution_count": 16
        }
      ]
    },
    {
      "cell_type": "markdown",
      "metadata": {
        "id": "7TwxoUqTWcak"
      },
      "source": [
        "## 6031\n",
        "- 입력은 기본적으로 모두 문자열로 입력되는 것이다. \n",
        "  - 따라서, 입력 값이 문자/문자열/정수/실수인지에 따라 먼저 정확하게 변환시킨 다음에 사용해야 한다. \n",
        "  - chr() 함수 사용"
      ]
    },
    {
      "cell_type": "markdown",
      "metadata": {
        "id": "LjusGMscYo_S"
      },
      "source": [
        "## 6033 \n",
        "- 입력된 문자의 다음 문자 출력하기 \n",
        "  - 알파벳 순으로 했을 때, 다음 문자\n",
        "- 입력된 문자를 숫자로 바꾸는 작업이 선행되어야 한다. "
      ]
    },
    {
      "cell_type": "code",
      "metadata": {
        "colab": {
          "base_uri": "https://localhost:8080/"
        },
        "id": "y72yC0JGaBaB",
        "outputId": "c64c58dc-b3ec-4bd6-aa89-b87b5b7156da"
      },
      "source": [
        "a= 'a'\n",
        "print(ord(a))\n",
        "next= ord(a)+1\n",
        "print(chr(next))"
      ],
      "execution_count": null,
      "outputs": [
        {
          "output_type": "stream",
          "name": "stdout",
          "text": [
            "97\n",
            "b\n"
          ]
        }
      ]
    },
    {
      "cell_type": "code",
      "metadata": {
        "colab": {
          "base_uri": "https://localhost:8080/"
        },
        "id": "79j5wZ3vYxIE",
        "outputId": "bde89867-09f7-4b3c-8db7-d1e61d5d4219"
      },
      "source": [
        "a= input()\n",
        "next= ord(a)+1\n",
        "print(chr(next))"
      ],
      "execution_count": null,
      "outputs": [
        {
          "output_type": "stream",
          "name": "stdout",
          "text": [
            "a\n",
            "b\n"
          ]
        }
      ]
    },
    {
      "cell_type": "markdown",
      "metadata": {
        "id": "F3Hkf5koaqYJ"
      },
      "source": [
        "## 6034"
      ]
    },
    {
      "cell_type": "code",
      "metadata": {
        "id": "nhu9L6aE6POE"
      },
      "source": [
        ""
      ],
      "execution_count": null,
      "outputs": []
    },
    {
      "cell_type": "code",
      "metadata": {
        "colab": {
          "base_uri": "https://localhost:8080/"
        },
        "id": "vyJ_4IWMasDC",
        "outputId": "ed87be1c-0576-423b-b3b5-9627ccd5c8c6"
      },
      "source": [
        "f1,f2=map(float,input().split())\n",
        "m= f1*f2\n",
        "print(m)\n"
      ],
      "execution_count": null,
      "outputs": [
        {
          "output_type": "stream",
          "name": "stdout",
          "text": [
            "12 12\n",
            "144.0\n"
          ]
        }
      ]
    },
    {
      "cell_type": "code",
      "metadata": {
        "id": "PBcjwCkwbV9w"
      },
      "source": [
        "12"
      ],
      "execution_count": null,
      "outputs": []
    },
    {
      "cell_type": "markdown",
      "metadata": {
        "id": "H-a2YXy1nRSa"
      },
      "source": [
        "소수에 대한 버림/반올림/올림\n",
        "round: 반올림 "
      ]
    },
    {
      "cell_type": "markdown",
      "metadata": {
        "id": "-54sXj285tBm"
      },
      "source": [
        "## 6036\n",
        "- 단어와 반복 횟수를 입력 받아 여러 번 출력. "
      ]
    },
    {
      "cell_type": "code",
      "metadata": {
        "colab": {
          "base_uri": "https://localhost:8080/"
        },
        "id": "AUqm4lp45zE2",
        "outputId": "abc3e9fd-03fc-4355-feb7-fa06c060f4f4"
      },
      "source": [
        "w,n=input().split()\n",
        "print(w*int(n))"
      ],
      "execution_count": null,
      "outputs": [
        {
          "output_type": "stream",
          "name": "stdout",
          "text": [
            "love 3\n",
            "lovelovelove\n"
          ]
        }
      ]
    },
    {
      "cell_type": "markdown",
      "metadata": {
        "id": "uOuIWMqf7xJB"
      },
      "source": [
        "## 6037"
      ]
    },
    {
      "cell_type": "code",
      "metadata": {
        "colab": {
          "base_uri": "https://localhost:8080/"
        },
        "id": "5CfG2Ox07yX7",
        "outputId": "c6090bae-a4cf-4f0d-e883-9000396b7bc1"
      },
      "source": [
        "n = input()\n",
        "s= input()\n",
        "print(int(n)*s)"
      ],
      "execution_count": null,
      "outputs": [
        {
          "output_type": "stream",
          "name": "stdout",
          "text": [
            "3\n",
            "i love cs\n",
            "i love csi love csi love cs\n"
          ]
        }
      ]
    },
    {
      "cell_type": "markdown",
      "metadata": {
        "id": "AEeG7ohA8Pv_"
      },
      "source": [
        "## 6038\n"
      ]
    },
    {
      "cell_type": "code",
      "metadata": {
        "colab": {
          "base_uri": "https://localhost:8080/"
        },
        "id": "VOgUqkB78RPF",
        "outputId": "21ccbce9-0366-483c-f37e-820d492b5272"
      },
      "source": [
        "a,b=map(int, input().split())\n",
        "c= a%b\n",
        "print(c)"
      ],
      "execution_count": null,
      "outputs": [
        {
          "output_type": "stream",
          "name": "stdout",
          "text": [
            "4 3\n",
            "1\n"
          ]
        }
      ]
    },
    {
      "cell_type": "code",
      "metadata": {
        "colab": {
          "base_uri": "https://localhost:8080/"
        },
        "id": "GV6E7XQW-8IX",
        "outputId": "62c817dd-db13-47ca-befb-aca50e39fa59"
      },
      "source": [
        "f1,f2=map(float, input().split())\n",
        "c=f1/f2\n",
        "print(round(c,3))\n"
      ],
      "execution_count": null,
      "outputs": [
        {
          "output_type": "stream",
          "name": "stdout",
          "text": [
            "10.0 3.0\n",
            "3.333\n"
          ]
        }
      ]
    },
    {
      "cell_type": "markdown",
      "metadata": {
        "id": "aaQEg7DEBOwr"
      },
      "source": [
        "## 6056\n",
        "논리연산\n",
        "- and, or, not만 지원 \n",
        "- xor( 배타적 논리합)\n",
        "  - 논리연산의 한 종류이지만 파이썬에서 제공하지 않는 논리 연산. \n",
        "  - 결국 and. or, not을 조합해서 새로운 논리연산 표현해야 한다.\n",
        "- 배타적 논리합이라는 것은 두 명제가 서로 다를 경우에만 참이 되는 연산이라고 한다. \n",
        "- 정수에 대한 불리언 연산. 파이썬의 모든 객체는 참 거짓으로 구분 가능하다. \n",
        "  - 거짓이 되는 경우 : 0 또는 빈 객체 \n",
        "  - 나머지는 모두 참이 된다. "
      ]
    },
    {
      "cell_type": "code",
      "metadata": {
        "colab": {
          "base_uri": "https://localhost:8080/"
        },
        "id": "SrUB2ei5CbuP",
        "outputId": "966544bf-9394-4187-ab38-e59cc9d67e89"
      },
      "source": [
        "a,b= map(int,input().split())\n",
        "a= bool(a)\n",
        "b= bool(b)\n",
        "\n",
        "print( (a and not b) or (not a and b))"
      ],
      "execution_count": null,
      "outputs": [
        {
          "output_type": "stream",
          "name": "stdout",
          "text": [
            "1 1\n",
            "False\n"
          ]
        }
      ]
    },
    {
      "cell_type": "code",
      "metadata": {
        "colab": {
          "base_uri": "https://localhost:8080/"
        },
        "id": "YX8Qyn42B7rm",
        "outputId": "e2369c26-42a4-47d3-e350-d34c6a6b0072"
      },
      "source": [
        "a,b = map ( int, input().split())\n",
        "print(a+b)\n",
        "print(a-b)\n",
        "print(a*b)\n",
        "print(a//b)\n",
        "print(a%b)\n",
        "print(round(a/b,2))"
      ],
      "execution_count": null,
      "outputs": [
        {
          "output_type": "stream",
          "name": "stdout",
          "text": [
            "5 3\n",
            "8\n",
            "2\n",
            "15\n",
            "1\n",
            "2\n",
            "1.67\n"
          ]
        }
      ]
    },
    {
      "cell_type": "code",
      "metadata": {
        "colab": {
          "base_uri": "https://localhost:8080/"
        },
        "id": "_ozt6YVhFIxG",
        "outputId": "f328c169-b39b-472d-bfc0-4d78e6cc74fe"
      },
      "source": [
        "a, b, c= map(int, input().split())\n",
        "d= a + b + c\n",
        "e= f'{d/3:.2f}'\n",
        "print( d, e)"
      ],
      "execution_count": null,
      "outputs": [
        {
          "output_type": "stream",
          "name": "stdout",
          "text": [
            "1 2 3\n",
            "6 2.00\n"
          ]
        }
      ]
    },
    {
      "cell_type": "code",
      "metadata": {
        "colab": {
          "base_uri": "https://localhost:8080/"
        },
        "id": "un9TB3hLB11R",
        "outputId": "2a1371a1-03ae-41d2-9d3a-baadf8ada5bc"
      },
      "source": [
        "a,b= map( int, input().split())\n",
        "if a<b:\n",
        "  print('True')\n",
        "else :\n",
        "  print('False')"
      ],
      "execution_count": null,
      "outputs": [
        {
          "output_type": "stream",
          "name": "stdout",
          "text": [
            "3 5\n",
            "True\n"
          ]
        }
      ]
    },
    {
      "cell_type": "code",
      "metadata": {
        "colab": {
          "base_uri": "https://localhost:8080/"
        },
        "id": "yrUKPHvoJIyX",
        "outputId": "4e744724-905f-4812-9267-bd611173f198"
      },
      "source": [
        "a,b= map( int, input().split())\n",
        "if a!=b:\n",
        "  print('True')\n",
        "else :\n",
        "  print('False')"
      ],
      "execution_count": null,
      "outputs": [
        {
          "output_type": "stream",
          "name": "stdout",
          "text": [
            "3 5\n",
            "True\n"
          ]
        }
      ]
    },
    {
      "cell_type": "code",
      "metadata": {
        "colab": {
          "base_uri": "https://localhost:8080/"
        },
        "id": "Mu4Yg9rWJ67h",
        "outputId": "9d34c1b5-2fcd-4d7f-8c93-3017145065b3"
      },
      "source": [
        "## 6052\n",
        "n= int(input())\n",
        "print(bool(n))"
      ],
      "execution_count": null,
      "outputs": [
        {
          "output_type": "stream",
          "name": "stdout",
          "text": [
            "10\n",
            "True\n"
          ]
        }
      ]
    },
    {
      "cell_type": "code",
      "metadata": {
        "colab": {
          "base_uri": "https://localhost:8080/"
        },
        "id": "5FtiCCQCNn60",
        "outputId": "c2fd3a53-03ea-4db5-fd24-4370d99525a4"
      },
      "source": [
        "## 6053\n",
        "a= bool(int(input())) ## 이렇게 한 줄로 작성할 경우 input --> int--> bool 순서로 연산한다.\n",
        "print(not a)"
      ],
      "execution_count": null,
      "outputs": [
        {
          "output_type": "stream",
          "name": "stdout",
          "text": [
            "1\n",
            "False\n"
          ]
        }
      ]
    },
    {
      "cell_type": "code",
      "metadata": {
        "colab": {
          "base_uri": "https://localhost:8080/"
        },
        "id": "LZUMqqlmOHRq",
        "outputId": "2b3b305c-1e15-4b07-e3fe-8f8809a2adcc"
      },
      "source": [
        "## 6054\n",
        "a,b = map(int, input().split()) \n",
        "print(bool(a)and bool(b))"
      ],
      "execution_count": null,
      "outputs": [
        {
          "output_type": "stream",
          "name": "stdout",
          "text": [
            "1 1\n",
            "True\n"
          ]
        }
      ]
    },
    {
      "cell_type": "code",
      "metadata": {
        "colab": {
          "base_uri": "https://localhost:8080/"
        },
        "id": "ODd1xeCYPQpp",
        "outputId": "6b92a034-6ee1-43be-f951-aa1b5e9adcb7"
      },
      "source": [
        "## 6055\n",
        "## 6054\n",
        "a,b = map(int, input().split()) \n",
        "print(bool(int(a)) or bool(int(b)))"
      ],
      "execution_count": null,
      "outputs": [
        {
          "output_type": "stream",
          "name": "stdout",
          "text": [
            "1 0\n",
            "True\n"
          ]
        }
      ]
    },
    {
      "cell_type": "code",
      "metadata": {
        "colab": {
          "base_uri": "https://localhost:8080/"
        },
        "id": "_0Ph9dgzPhFZ",
        "outputId": "b9ee48d4-53d6-4f57-ab05-34e2475bd7a0"
      },
      "source": [
        "## 6057 \n",
        "a,b = map( int, input().split())\n",
        "print((not bool(a) and not bool(b)) or bool(a) and bool(b) )"
      ],
      "execution_count": null,
      "outputs": [
        {
          "output_type": "stream",
          "name": "stdout",
          "text": [
            "1  1\n",
            "True\n"
          ]
        }
      ]
    },
    {
      "cell_type": "code",
      "metadata": {
        "colab": {
          "base_uri": "https://localhost:8080/"
        },
        "id": "1DKoQ7BpQNyB",
        "outputId": "8fb3baff-a69f-4541-945b-44b20d75c258"
      },
      "source": [
        "## 6058\n",
        "a,b = map( int, input().split())\n",
        "print(not bool(a) and not bool(b))"
      ],
      "execution_count": null,
      "outputs": [
        {
          "output_type": "stream",
          "name": "stdout",
          "text": [
            "0 0\n",
            "True\n"
          ]
        }
      ]
    },
    {
      "cell_type": "code",
      "metadata": {
        "colab": {
          "base_uri": "https://localhost:8080/"
        },
        "id": "ZUhIo_0tYHJ3",
        "outputId": "07b0a5ef-5ff0-4593-9b50-99206c5a7b5b"
      },
      "source": [
        "## 6063\n",
        "a,b= map( int, input().split())\n",
        "a= int(a)\n",
        "b= int(b)\n",
        "c=(a if (a >= b) else b)\n",
        "print(int(c))"
      ],
      "execution_count": null,
      "outputs": [
        {
          "output_type": "stream",
          "name": "stdout",
          "text": [
            "4 2\n",
            "4\n"
          ]
        }
      ]
    },
    {
      "cell_type": "markdown",
      "metadata": {
        "id": "KPUKh1HCZKzw"
      },
      "source": [
        "## 6064\n",
        "- 프로그래밍언어 소스코드 작성시 모든 요소들은\n",
        "\"순서에 따라 한 단계씩 실행\"\n",
        "\"미리 정해진 순서에 따라 하나씩 연산 수행\"\n",
        "\"그 때까지 연산된 결과를 이용해 다시 순서에 따라 하나씩 연산\"\n",
        "...\n",
        "등의 원리가 적용된다.따라서 3항 연산을 중첩해(괄호로 묶는 등..) 이용하면 여러 값들을 순서대로 비교해 가장 큰/작은 값을 계산할 수 있다. \n",
        "- 예를 들어\n",
        "(a if a>b else b) if ((a if a>b else b)>c) else c\n",
        "와 같은 계산식은 a, b, c 의 값 중 가장 큰 값으로 계산된다. 잘 이해가 되지 않는다면 어떤 순서에 따라 계산될 지 생각해보고\n",
        "여러 가지 연산자가 동시에 사용된 식이 있을 때, 어떤 우선순위에 따라 순서대로 계산이 되는지 찾아보도록 한다.\n",
        "“연산자 우선순위”를 검색하면 우선순위와 결합방향이 나온다.\n",
        "예를 들어 변수에 어떤 값을 대입하는 대입(assign) 연산자 = 의 우선순위는 가장 낮고, 오른쪽에서 왼쪽의 결합방향을 가진다.\n",
        "\n",
        "** 3항 연산은 자주 사용되지는 않지만,\n",
        "복잡한 계산식이나 조건 처리, 비교 구조를 간단히 표현할 수 있게 해준다\n"
      ]
    },
    {
      "cell_type": "code",
      "metadata": {
        "colab": {
          "base_uri": "https://localhost:8080/"
        },
        "id": "a1oMaWVfaV0Z",
        "outputId": "2773c7aa-7b6b-48e4-a802-9f67772d41b0"
      },
      "source": [
        "## 6064\n",
        "## 입력된 세 정수 중 가장 작은 값을 출력하는 프로그램\n",
        "a, b, c= map( int, input().split())\n",
        "(a if a<b else b)if((a if a < b else b)<c) else c"
      ],
      "execution_count": null,
      "outputs": [
        {
          "name": "stdout",
          "output_type": "stream",
          "text": [
            "3 5  -1\n"
          ]
        },
        {
          "output_type": "execute_result",
          "data": {
            "text/plain": [
              "-1"
            ]
          },
          "metadata": {},
          "execution_count": 98
        }
      ]
    },
    {
      "cell_type": "code",
      "metadata": {
        "id": "JBvghrS_cFY1"
      },
      "source": [
        "\n",
        "## 6064\n",
        "## 입력된 세 정수 중 가장 작은 값을 출력하는 프로그램\n",
        "a, b, c= map( int, input().split())\n",
        "print((a if a<b else b)if((a if a < b else b)<c) else c)\n",
        "\n"
      ],
      "execution_count": null,
      "outputs": []
    },
    {
      "cell_type": "markdown",
      "metadata": {
        "id": "NEPH4UCPKVrT"
      },
      "source": [
        "## 6065\n",
        "- 입력받은 3개의 수 중에서 짝수만 출력\n"
      ]
    },
    {
      "cell_type": "code",
      "metadata": {
        "colab": {
          "base_uri": "https://localhost:8080/"
        },
        "id": "9_3jJF3eKZWS",
        "outputId": "78bcb668-bb5f-44e8-b303-144a3ba0c0a1"
      },
      "source": [
        "a, b, c = map(int, input().split())\n",
        "# a가 짝수라면?\n",
        "if not a % 2 :\n",
        "  print(a)\n",
        "if not b % 2 :  print(b)\n",
        "if not c % 2 :  print(c)"
      ],
      "execution_count": null,
      "outputs": [
        {
          "output_type": "stream",
          "name": "stdout",
          "text": [
            "1 2 4\n",
            "2\n",
            "4\n"
          ]
        }
      ]
    },
    {
      "cell_type": "code",
      "metadata": {
        "colab": {
          "base_uri": "https://localhost:8080/"
        },
        "id": "_xVBL7lhdOna",
        "outputId": "f5ea902b-33a4-4ba3-f471-7c64f2abf9c9"
      },
      "source": [
        "# 6066\n",
        "a, b, c= map( int, input().split())\n",
        "if not a % 2: print(\"even\")\n",
        "else: print(\"odd\") \n",
        "if not b % 2: print(\"even\")\n",
        "else: print(\"odd\")\n",
        "if not c % 2: print(\"even\")\n",
        "else: print(\"odd\")"
      ],
      "execution_count": null,
      "outputs": [
        {
          "output_type": "stream",
          "name": "stdout",
          "text": [
            "2 3 4\n",
            "even\n",
            "odd\n",
            "even\n"
          ]
        }
      ]
    },
    {
      "cell_type": "code",
      "metadata": {
        "colab": {
          "base_uri": "https://localhost:8080/"
        },
        "id": "ug64JZDEeV8j",
        "outputId": "4f152ba1-a4af-471e-9b13-72f112d8b024"
      },
      "source": [
        "# 6067\n",
        "a = int(input())\n",
        "if a < 0 and not a % 2:\n",
        "  print(\"A\")\n",
        "if a < 0 and a % 2: print(\"B\")\n",
        "if a > 0 and not a % 2: print(\"C\")\n",
        "if a > 0 and a % 2: print(\"D\")"
      ],
      "execution_count": null,
      "outputs": [
        {
          "output_type": "stream",
          "name": "stdout",
          "text": [
            "-2\n",
            "A\n"
          ]
        }
      ]
    },
    {
      "cell_type": "code",
      "metadata": {
        "colab": {
          "base_uri": "https://localhost:8080/"
        },
        "id": "d9UPYuLzfWv2",
        "outputId": "f9ce75dc-553b-4408-fb16-862d1ec300f3"
      },
      "source": [
        "# 6068 \n",
        "a = int(input())\n",
        "if 90<= a <= 100:\n",
        "  print('A')\n",
        "elif 70 <= a < 90:\n",
        "  print(\"B\")\n",
        "elif 40 <= a <= 70:\n",
        "  print('C')\n",
        "else:\n",
        "  print('D')"
      ],
      "execution_count": null,
      "outputs": [
        {
          "output_type": "stream",
          "name": "stdout",
          "text": [
            "49\n",
            "C\n"
          ]
        }
      ]
    },
    {
      "cell_type": "code",
      "metadata": {
        "colab": {
          "base_uri": "https://localhost:8080/"
        },
        "id": "yt-6yuELg2Lu",
        "outputId": "8b338d2b-7a56-4142-e0fd-d80aa4ef995b"
      },
      "source": [
        "## 6069\n",
        "## 문자를 입력받아서 문자에 해당하는 출력.\n",
        "\n",
        "a = input() \n",
        "if a == 'A':\n",
        "  print(\"best!!!\")\n",
        "elif  a == 'B':\n",
        "  print(\"good!!\")\n",
        "elif a == 'C':\n",
        "  print(\"run!\")\n",
        "elif a == 'D':\n",
        "  print(\"slowly~\")\n",
        "else:\n",
        "  print(\"what?\")\n"
      ],
      "execution_count": null,
      "outputs": [
        {
          "output_type": "stream",
          "name": "stdout",
          "text": [
            "b\n",
            "what?\n"
          ]
        }
      ]
    },
    {
      "cell_type": "code",
      "metadata": {
        "colab": {
          "base_uri": "https://localhost:8080/"
        },
        "id": "WxM3SrGQm6vF",
        "outputId": "f23ec93c-a6e3-4b13-a889-42180f112f63"
      },
      "source": [
        "## 6070\n",
        "a = int(input())\n",
        "if a == 12 or a== 1 or a== 2:\n",
        "  print('winter')\n",
        "elif a == 3 or a== 4 or a== 5:\n",
        "  print(\"spring\")\n",
        "elif  a==6 or a== 7 or a== 8:\n",
        "  print(\"summer\")\n",
        "elif a== 9 or a== 10 or a== 11:\n",
        "  print(\"fall\")\n"
      ],
      "execution_count": null,
      "outputs": [
        {
          "name": "stdout",
          "output_type": "stream",
          "text": [
            "13\n"
          ]
        }
      ]
    },
    {
      "cell_type": "code",
      "metadata": {
        "colab": {
          "base_uri": "https://localhost:8080/"
        },
        "id": "TJ6uMlIBqwRr",
        "outputId": "0beb410d-dfdf-4f12-ff01-56983f2b7262"
      },
      "source": [
        "## 6070\n",
        "a = int(input())\n",
        "if a // 3 == 1:\n",
        "  print(\"spring\")\n",
        "elif a//3 == 2: \n",
        "  print(\"summer\")\n",
        "elif a // 3 == 3:\n",
        "  print(\"fall\")\n",
        "else:\n",
        "  print(\"winter\")"
      ],
      "execution_count": null,
      "outputs": [
        {
          "output_type": "stream",
          "name": "stdout",
          "text": [
            "3\n",
            "spring\n"
          ]
        }
      ]
    },
    {
      "cell_type": "code",
      "metadata": {
        "colab": {
          "base_uri": "https://localhost:8080/"
        },
        "id": "_f_4_0x0Mlhw",
        "outputId": "5a46abb8-d1c8-48ad-d39c-9765d3f1f986"
      },
      "source": [
        "if not 0:\n",
        "  print('이거 참인가요?')\n",
        "else: \n",
        "  print('거짓이죠')"
      ],
      "execution_count": null,
      "outputs": [
        {
          "output_type": "stream",
          "name": "stdout",
          "text": [
            "이거 참인가요?\n"
          ]
        }
      ]
    },
    {
      "cell_type": "markdown",
      "metadata": {
        "id": "2EPoDi4gVqe6"
      },
      "source": [
        "## 6071\n",
        "- 0 입력될 때까지 무한 출력하기. \n",
        "  - 반복적으로 처리할 때 모든 입력을 한 번에 받아서 일괄적으로 처리할 필요 없다. \n",
        "  - 각각의 주어진 입력을 서로 다른 테스트 케이스로 보고 각각 처리하자. \n",
        "  "
      ]
    },
    {
      "cell_type": "code",
      "metadata": {
        "colab": {
          "base_uri": "https://localhost:8080/"
        },
        "id": "MlE0YvRTWHnF",
        "outputId": "b6d4db22-f0f3-4e90-9ced-f5167868cd91"
      },
      "source": [
        "## 6071\n",
        "### 입력이 얼마나 주어질 지 알 수 없다. 다만 0이 입력되면 더 이상 입력 받지 않아도 되는 것은 안다. \n",
        "\n",
        "while True:\n",
        "  n=int( input())\n",
        "  if n != 0:\n",
        "    print(n)\n",
        "  else:\n",
        "    break #0이 입력되면 더 이상 처리할 필요가 없다."
      ],
      "execution_count": null,
      "outputs": [
        {
          "name": "stdout",
          "output_type": "stream",
          "text": [
            "1\n",
            "1\n",
            "0\n"
          ]
        }
      ]
    },
    {
      "cell_type": "code",
      "metadata": {
        "colab": {
          "base_uri": "https://localhost:8080/"
        },
        "id": "H391H4FUrrHG",
        "outputId": "beb32862-00ee-4bca-de3a-29a69e3f6235"
      },
      "source": [
        "# 6071\n",
        "## 줄을 바꿔서 입력이 주어진다는 것은 매 라인마다 반복적으로 입력을 처리\n",
        "## input은 모든 입력을 문자열 형태로 반환!!! 잊지마라!!\n",
        "n  = 1\n",
        "while n != 0:\n",
        "  n=int(input())\n",
        "  if n != 0:\n",
        "    print(n)\n"
      ],
      "execution_count": null,
      "outputs": [
        {
          "name": "stdout",
          "output_type": "stream",
          "text": [
            "1\n",
            "1\n",
            "0\n"
          ]
        }
      ]
    },
    {
      "cell_type": "code",
      "metadata": {
        "colab": {
          "base_uri": "https://localhost:8080/"
        },
        "id": "8IfOyhXAsR69",
        "outputId": "f5356770-f2da-4fcb-c618-a40373293a68"
      },
      "source": [
        "# 6071\n",
        "while True:\n",
        "  n = int( input())\n",
        "  if n != 0:\n",
        "    print(n)\n",
        "  else:\n",
        "    break"
      ],
      "execution_count": null,
      "outputs": [
        {
          "name": "stdout",
          "output_type": "stream",
          "text": [
            "1\n",
            "1\n",
            "2\n",
            "2\n",
            "0\n"
          ]
        }
      ]
    },
    {
      "cell_type": "code",
      "metadata": {
        "colab": {
          "base_uri": "https://localhost:8080/"
        },
        "id": "ACgllYo5syzE",
        "outputId": "e7dabd05-998a-419a-813d-8e310aec0a69"
      },
      "source": [
        "# 6072\n",
        "a = int(input())\n",
        "while (0 < a<=100):\n",
        "  print(a)\n",
        "  \n",
        "  a = a - 1\n",
        "## for를 쓰냐 while 을 쓰느냐는 문제가 아니다. \n",
        "#메모리의 변화를 알 수 있느냐가 중요하다. \n",
        "  \n",
        " "
      ],
      "execution_count": null,
      "outputs": [
        {
          "output_type": "stream",
          "name": "stdout",
          "text": [
            "5\n",
            "5\n",
            "4\n",
            "3\n",
            "2\n",
            "1\n"
          ]
        }
      ]
    },
    {
      "cell_type": "code",
      "metadata": {
        "id": "ohUsj9bKubrZ"
      },
      "source": [
        ""
      ],
      "execution_count": null,
      "outputs": []
    },
    {
      "cell_type": "code",
      "metadata": {
        "colab": {
          "base_uri": "https://localhost:8080/"
        },
        "id": "JpWHeTkBzC4N",
        "outputId": "478d199c-73da-4d04-815d-f6ad0d4cf0e5"
      },
      "source": [
        "## 6073\n",
        "a = int(input())\n",
        "while(0< a <= 100):\n",
        "  a= a - 1\n",
        "  print(a)\n",
        "  "
      ],
      "execution_count": null,
      "outputs": [
        {
          "output_type": "stream",
          "name": "stdout",
          "text": [
            "4\n",
            "3\n",
            "2\n",
            "1\n",
            "0\n"
          ]
        }
      ]
    },
    {
      "cell_type": "code",
      "metadata": {
        "id": "_t8jAM9_03_f"
      },
      "source": [
        "## 6074\n",
        "a= input()\n",
        "# 문자를 직접 증가시킬 수는 없고 아스키 코드 형태로 숫자를\n",
        "# 증가시키는 형태로 되도록."
      ],
      "execution_count": null,
      "outputs": []
    },
    {
      "cell_type": "code",
      "metadata": {
        "colab": {
          "base_uri": "https://localhost:8080/"
        },
        "id": "RLVkRdfH18wQ",
        "outputId": "16efdd10-e8fa-4569-94e5-788d147d03e7"
      },
      "source": [
        "## 6075\n",
        "c= ord(input())\n",
        "t= ord('a')\n",
        "while t <= c:\n",
        "  print(chr(t), end=' ') # chr() 를 이용하면 정수 값을 유니코드 문자로 출력 가능\n",
        "  t += 1 # print(~~, end='') 처럼 작성하면 값 출력 후 공백문자 ''를 출력한다.\n",
        "   # 즉 마지막에 줄을 바꾸지 않고 빈칸만 띄운다  \n",
        "\n",
        "   ## end를 빼고 작성하면 한 칸씩 세로로 출력된다.     "
      ],
      "execution_count": null,
      "outputs": [
        {
          "output_type": "stream",
          "name": "stdout",
          "text": [
            "g\n",
            "a b c d e f g "
          ]
        }
      ]
    },
    {
      "cell_type": "code",
      "metadata": {
        "colab": {
          "base_uri": "https://localhost:8080/"
        },
        "id": "r3rHTfg43oVu",
        "outputId": "59524cf0-53f9-4a0e-ac0f-2bb5d4310e87"
      },
      "source": [
        "#  6076\n",
        "a= int(input())\n",
        "t= 0\n",
        "while t <= a:\n",
        "  print(t, end=' ')\n",
        "  t = t+1\n",
        "  \n",
        "  \n",
        "\n"
      ],
      "execution_count": null,
      "outputs": [
        {
          "output_type": "stream",
          "name": "stdout",
          "text": [
            "10\n",
            "0 1 2 3 4 5 6 7 8 9 10 "
          ]
        }
      ]
    },
    {
      "cell_type": "code",
      "metadata": {
        "colab": {
          "base_uri": "https://localhost:8080/"
        },
        "id": "_7gaFdVs7AjU",
        "outputId": "105c2b0f-38a2-4e2f-8b0b-67c7ee4d841f"
      },
      "source": [
        "# 6077\n",
        "n= int(input())\n",
        "for i in range(n+1):\n",
        "  print(i)"
      ],
      "execution_count": null,
      "outputs": [
        {
          "output_type": "stream",
          "name": "stdout",
          "text": [
            "10\n",
            "0\n",
            "1\n",
            "2\n",
            "3\n",
            "4\n",
            "5\n",
            "6\n",
            "7\n",
            "8\n",
            "9\n",
            "10\n"
          ]
        }
      ]
    },
    {
      "cell_type": "markdown",
      "metadata": {
        "id": "kdIhiYBPw5Af"
      },
      "source": [
        "## for Vs. While\n",
        "- for\n",
        "  - 이터레이블 객체에 대해서 반복적인 연산, 즉 반드시 이터레이블 객체가 있어야만 한다. \n",
        "- while \n",
        "  - 이터레이블이 아닌 경우에 반복이 필요하다면 사용"
      ]
    },
    {
      "cell_type": "markdown",
      "metadata": {
        "id": "lwhSbRNLo--s"
      },
      "source": [
        "## 12월7일 실습 "
      ]
    },
    {
      "cell_type": "code",
      "metadata": {
        "colab": {
          "base_uri": "https://localhost:8080/"
        },
        "id": "pQtblNL8pBnB",
        "outputId": "848accf3-fabe-4096-8414-54bddccb26ca"
      },
      "source": [
        "## 1부터 n까지의 수열을 만들어봐야 한다. \n",
        "n = int( input())\n",
        "total= 0 ## 0으로 초기화 해야 저 밑에 함수에 0부터 들어감\n",
        "for i in range(1, n+1):\n",
        "  if i % 2: continue ## continue 를 만나면 이 밑에 함수는 시행\n",
        "  total += i         ## 되지 않고 다시 위로 돌아감 \n",
        "\n",
        "print(total)"
      ],
      "execution_count": null,
      "outputs": [
        {
          "output_type": "stream",
          "name": "stdout",
          "text": [
            "3\n",
            "2\n"
          ]
        }
      ]
    },
    {
      "cell_type": "code",
      "metadata": {
        "id": "1FZ-qaryxIW6",
        "colab": {
          "base_uri": "https://localhost:8080/"
        },
        "outputId": "4c8a3dc9-903b-4470-d1a8-12d71bca72ef"
      },
      "source": [
        "n = int( input() )\n",
        "total = 0\n",
        "for i in range(0, n+1, 2):\n",
        "  total += i\n",
        "print(total)"
      ],
      "execution_count": null,
      "outputs": [
        {
          "output_type": "stream",
          "name": "stdout",
          "text": [
            "3\n",
            "2\n"
          ]
        }
      ]
    },
    {
      "cell_type": "code",
      "metadata": {
        "id": "xjDx3Isoo-iA"
      },
      "source": [
        ""
      ],
      "execution_count": null,
      "outputs": []
    },
    {
      "cell_type": "markdown",
      "metadata": {
        "id": "y-lDr2VOtvLP"
      },
      "source": [
        "## 6078\n",
        "- 원하는 문자가 입력될 때 까지 계속 출력 \n"
      ]
    },
    {
      "cell_type": "code",
      "metadata": {
        "colab": {
          "base_uri": "https://localhost:8080/"
        },
        "id": "6iESe-mwt2fD",
        "outputId": "c80b3794-7537-4f83-9a73-035b0ac8c599"
      },
      "source": [
        "while True:\n",
        "  n = input()\n",
        "  if n != 'q':  print(n)\n",
        "  else:\n",
        "    print(n)\n",
        "    break"
      ],
      "execution_count": null,
      "outputs": [
        {
          "output_type": "stream",
          "name": "stdout",
          "text": [
            "q\n",
            "q\n"
          ]
        }
      ]
    },
    {
      "cell_type": "markdown",
      "metadata": {
        "id": "XUm0SbSTrdbH"
      },
      "source": [
        "## 6081\n",
        "16진수 구구단 "
      ]
    },
    {
      "cell_type": "code",
      "metadata": {
        "colab": {
          "base_uri": "https://localhost:8080/"
        },
        "id": "4dcI56y5rf3q",
        "outputId": "5e1cda38-0c03-4034-f3e9-53a37f02074f"
      },
      "source": [
        "n = int( input() , base=16 ) # base가 진수를 의미한다. \n",
        "for i in range(1,16):        # 16진수 입장에서는 대소문자를 \n",
        "  print(f'{n:X}*{i:X}={n*i:X}') # 구분하지 않음. 모두 숫자임"
      ],
      "execution_count": null,
      "outputs": [
        {
          "output_type": "stream",
          "name": "stdout",
          "text": [
            "B\n",
            "B*1=B\n",
            "B*2=16\n",
            "B*3=21\n",
            "B*4=2C\n",
            "B*5=37\n",
            "B*6=42\n",
            "B*7=4D\n",
            "B*8=58\n",
            "B*9=63\n",
            "B*A=6E\n",
            "B*B=79\n",
            "B*C=84\n",
            "B*D=8F\n",
            "B*E=9A\n",
            "B*F=A5\n"
          ]
        }
      ]
    },
    {
      "cell_type": "code",
      "metadata": {
        "colab": {
          "base_uri": "https://localhost:8080/"
        },
        "id": "L-6kIgu-r3Bj",
        "outputId": "a516b645-85ec-438b-ac3f-9222a9be9012"
      },
      "source": [
        "n=2 #구구단 전체 출력하려면 n도 반복시켜야 한다. \n",
        "for n in range(2,10):\n",
        "  for i in range(1,10):\n",
        "    print('{}x{}={}'.format(n, i, n*i))"
      ],
      "execution_count": null,
      "outputs": [
        {
          "output_type": "stream",
          "name": "stdout",
          "text": [
            "2x1=2\n",
            "2x2=4\n",
            "2x3=6\n",
            "2x4=8\n",
            "2x5=10\n",
            "2x6=12\n",
            "2x7=14\n",
            "2x8=16\n",
            "2x9=18\n",
            "3x1=3\n",
            "3x2=6\n",
            "3x3=9\n",
            "3x4=12\n",
            "3x5=15\n",
            "3x6=18\n",
            "3x7=21\n",
            "3x8=24\n",
            "3x9=27\n",
            "4x1=4\n",
            "4x2=8\n",
            "4x3=12\n",
            "4x4=16\n",
            "4x5=20\n",
            "4x6=24\n",
            "4x7=28\n",
            "4x8=32\n",
            "4x9=36\n",
            "5x1=5\n",
            "5x2=10\n",
            "5x3=15\n",
            "5x4=20\n",
            "5x5=25\n",
            "5x6=30\n",
            "5x7=35\n",
            "5x8=40\n",
            "5x9=45\n",
            "6x1=6\n",
            "6x2=12\n",
            "6x3=18\n",
            "6x4=24\n",
            "6x5=30\n",
            "6x6=36\n",
            "6x7=42\n",
            "6x8=48\n",
            "6x9=54\n",
            "7x1=7\n",
            "7x2=14\n",
            "7x3=21\n",
            "7x4=28\n",
            "7x5=35\n",
            "7x6=42\n",
            "7x7=49\n",
            "7x8=56\n",
            "7x9=63\n",
            "8x1=8\n",
            "8x2=16\n",
            "8x3=24\n",
            "8x4=32\n",
            "8x5=40\n",
            "8x6=48\n",
            "8x7=56\n",
            "8x8=64\n",
            "8x9=72\n",
            "9x1=9\n",
            "9x2=18\n",
            "9x3=27\n",
            "9x4=36\n",
            "9x5=45\n",
            "9x6=54\n",
            "9x7=63\n",
            "9x8=72\n",
            "9x9=81\n"
          ]
        }
      ]
    },
    {
      "cell_type": "code",
      "metadata": {
        "id": "u2sXg9Q9x_-m"
      },
      "source": [
        ""
      ],
      "execution_count": null,
      "outputs": []
    },
    {
      "cell_type": "markdown",
      "metadata": {
        "id": "t1SZm_NhEYlH"
      },
      "source": [
        "## 별찍기 \n",
        "- 백준\n",
        "- 중첩루프를 연습해보기 좋은 예제"
      ]
    },
    {
      "cell_type": "code",
      "metadata": {
        "id": "Vgg2aHdtEcHr"
      },
      "source": [
        "## 제출할 때에는 n을 표준입력으로 받아서 처리해야한다!!\n",
        "# n번째 줄까지 별을 찍는 문제 \n",
        "# 수업시간에는 n=5 라고 가정. 5줄을 찍겠다는 의미\n",
        "n = 5\n",
        "# 중첩루프가 기본적으로 2개가 있어줘야 한다. \n",
        "# 첫 번째 루프는 줄을 바꿔주는 루프 \n",
        "# 두 번째 루프는 라인안에서 별을 찍어주는 것\n",
        "for m in range(1,n+1):\n",
        "  for i in range(1, n+1):\n",
        "    if  n==1:\n",
        "      print('*')\n",
        "    elif n==2:\n",
        "      print('**')"
      ],
      "execution_count": 8,
      "outputs": []
    },
    {
      "cell_type": "code",
      "metadata": {
        "colab": {
          "base_uri": "https://localhost:8080/"
        },
        "id": "f_6N38y5K2ph",
        "outputId": "727f05f1-2189-4883-ea3e-464a4785c3a0"
      },
      "source": [
        "n = 5\n",
        "for i in range(n):\n",
        "  for j in range(i+1): # i는 0부터 출발하므로 처음에 동작x\n",
        "    print('*', end='')\n",
        "  print()"
      ],
      "execution_count": 11,
      "outputs": [
        {
          "output_type": "stream",
          "name": "stdout",
          "text": [
            "*\n",
            "**\n",
            "***\n",
            "****\n",
            "*****\n"
          ]
        }
      ]
    },
    {
      "cell_type": "markdown",
      "metadata": {
        "id": "UPHJVkLuOZO4"
      },
      "source": [
        "## 별찍기 2번\n",
        "- 공백도 표현하기 "
      ]
    },
    {
      "cell_type": "code",
      "metadata": {
        "colab": {
          "base_uri": "https://localhost:8080/"
        },
        "id": "Ob9mgwAhOb_z",
        "outputId": "d2808d39-e44a-41a5-bb60-d72221fe7173"
      },
      "source": [
        "# 별을 찍기전에 공백을 먼저 출력해줘야 한다. \n",
        " \n",
        "n = 5\n",
        "for i in range(n):\n",
        "  for k in range(n-i-1):\n",
        "    print(' ', end='')\n",
        "  for j in range(i+1): # i는 0부터 출발하므로 처음에 동작x\n",
        "    print('*', end='')\n",
        "  print()\n",
        "  \n",
        "  \n",
        "  \n",
        "  "
      ],
      "execution_count": 64,
      "outputs": [
        {
          "output_type": "stream",
          "name": "stdout",
          "text": [
            "    *\n",
            "   **\n",
            "  ***\n",
            " ****\n",
            "*****\n"
          ]
        }
      ]
    },
    {
      "cell_type": "markdown",
      "metadata": {
        "id": "vm9IUFWnUPh-"
      },
      "source": [
        "## 별찍기 3번 \n",
        "- 1번과 동일한 문제인데 반복횟수를 반대로 가게 하"
      ]
    },
    {
      "cell_type": "code",
      "metadata": {
        "colab": {
          "base_uri": "https://localhost:8080/"
        },
        "id": "RBkuZYlkUUCj",
        "outputId": "942962be-ddc2-4f1a-fd57-9b74555d5815"
      },
      "source": [
        "n = 5\n",
        "for i in range(n):\n",
        "  for j in range(n-i):\n",
        "    print('*',end='')\n",
        "  print()"
      ],
      "execution_count": 66,
      "outputs": [
        {
          "output_type": "stream",
          "name": "stdout",
          "text": [
            "*****\n",
            "****\n",
            "***\n",
            "**\n",
            "*\n"
          ]
        }
      ]
    },
    {
      "cell_type": "markdown",
      "metadata": {
        "id": "8YgRV4SaW7Et"
      },
      "source": [
        "## 별찍기 4"
      ]
    },
    {
      "cell_type": "code",
      "metadata": {
        "colab": {
          "base_uri": "https://localhost:8080/"
        },
        "id": "LSkJPKu2W9BV",
        "outputId": "91aab49b-e86b-4bec-da5f-7ee58fa0d220"
      },
      "source": [
        "n = 5\n",
        "for i in range(n):\n",
        "  for k in range(i):\n",
        "    print(' ', end='')\n",
        "  for j in range(n-i):\n",
        "    print('*',end = '')\n",
        "  print()"
      ],
      "execution_count": 79,
      "outputs": [
        {
          "output_type": "stream",
          "name": "stdout",
          "text": [
            "*****\n",
            " ****\n",
            "  ***\n",
            "   **\n",
            "    *\n"
          ]
        }
      ]
    },
    {
      "cell_type": "markdown",
      "metadata": {
        "id": "0WsJMDncZG-g"
      },
      "source": [
        "## 별찍기 5\n",
        "\n"
      ]
    },
    {
      "cell_type": "code",
      "metadata": {
        "colab": {
          "base_uri": "https://localhost:8080/"
        },
        "id": "bcI1I15PZJCS",
        "outputId": "13a04bb0-d15a-4fa2-98de-6c6b0cb1227e"
      },
      "source": [
        "n=5 \n",
        "\n",
        "for i in range(1,n+1):\n",
        "  for k in range(n-i):\n",
        "    print(' ', end='')\n",
        "  for j in range(2*i-1):\n",
        "    print('*', end='')\n",
        "  for l in range(n-i):\n",
        "    print(' ', end = '')\n",
        "  print()"
      ],
      "execution_count": 127,
      "outputs": [
        {
          "output_type": "stream",
          "name": "stdout",
          "text": [
            "    *    \n",
            "   ***   \n",
            "  *****  \n",
            " ******* \n",
            "*********\n"
          ]
        }
      ]
    },
    {
      "cell_type": "code",
      "metadata": {
        "colab": {
          "base_uri": "https://localhost:8080/"
        },
        "id": "hQ_0eW0We8iH",
        "outputId": "3f4e1e0c-150d-4a52-b1d6-c431c03baebb"
      },
      "source": [
        "n=5 \n",
        "\n",
        "for i in range(1,n+1):\n",
        "  for k in range(n-i):\n",
        "    print(' ', end='')\n",
        "  for j in range(2*i-1):\n",
        "    print('*', end='')\n",
        "  print()"
      ],
      "execution_count": 128,
      "outputs": [
        {
          "output_type": "stream",
          "name": "stdout",
          "text": [
            "    *\n",
            "   ***\n",
            "  *****\n",
            " *******\n",
            "*********\n"
          ]
        }
      ]
    },
    {
      "cell_type": "code",
      "metadata": {
        "id": "P-p71bQRhP1E"
      },
      "source": [
        "## 별찍기 5번 강사 풀이 \n",
        "\n",
        "n=5 \n",
        "\n",
        "for i in range(1,n+1):\n",
        "  for k in range(n-i):\n",
        "    print(' ', end='')\n",
        "  for j in range(2*i-1):\n",
        "    print('*', end='')\n",
        "  for l in range(n-i):\n",
        "    print(' ', end = '')\n",
        "  print()"
      ],
      "execution_count": null,
      "outputs": []
    },
    {
      "cell_type": "markdown",
      "metadata": {
        "id": "XsP_FS1kfmwB"
      },
      "source": [
        "## 다음 수업 계획 \n",
        "- pandas, 시각화, sql\n",
        "- 통계분석"
      ]
    },
    {
      "cell_type": "markdown",
      "metadata": {
        "id": "nZ80k0jnjbt5"
      },
      "source": [
        "## 루프 + 리스트\n",
        "- 다차원 리스트 : 2차원까지 \n",
        "```\n",
        "어려움..!!!!!!!!!!!!\n",
        "앞으로 다룰 데이터는 주로 2차원이다. \n",
        "인덱싱이 전부이다. \n",
        "인덱싱 하는거 진짜 연습 많이 해야한다.\n",
        "\n",
        "``` "
      ]
    },
    {
      "cell_type": "code",
      "metadata": {
        "colab": {
          "base_uri": "https://localhost:8080/"
        },
        "id": "aMgAdXZzjjIy",
        "outputId": "c16c8149-3b49-42f0-bfc9-63da52f0bb4f"
      },
      "source": [
        "## 이상한 출석 부르기 \n",
        "# 24개짜리 리스트를 생각해보자. 이 때 1이 불렸으면 1번 인덱스 값을\n",
        "# 증가시켜 준다. \n",
        "\n",
        "n = int( input() )\n",
        "a = list( map(int, input().split()))\n",
        "\n",
        "check = [0]*24\n",
        "for i in range(n):\n",
        "  check[a[i]] +=1\n",
        "for i in range(1,24):\n",
        "  print(check[i], end = ' ')"
      ],
      "execution_count": 136,
      "outputs": [
        {
          "output_type": "stream",
          "name": "stdout",
          "text": [
            "10\n",
            "1 2 1 2 2 3 4 5 4 2 3 1 \n",
            "2 4 1 2 1 0 0 0 0 0 0 0 0 0 0 0 0 0 0 0 0 0 0 "
          ]
        }
      ]
    },
    {
      "cell_type": "code",
      "metadata": {
        "colab": {
          "base_uri": "https://localhost:8080/"
        },
        "id": "fzMbX9j7nzg_",
        "outputId": "02afa49d-b76c-4d78-814a-5b13488edc4b"
      },
      "source": [
        "## 이상한 출석 부르기 \n",
        "# 24개짜리 리스트를 생각해보자. 이 때 1이 불렸으면 1번 인덱스 값을\n",
        "# 증가시켜 준다. \n",
        "\n",
        "n = int( input() )\n",
        "a = list( map(int, input().split()))\n",
        "\n",
        "#for i in range(n-1, -1, -1):\n",
        "#  print(a[i],end=' ')\n",
        "  ## 거꾸로 출력하는 방식 \n",
        "#for i in a[::-1]:\n",
        "#  print(i, end=' ')\n",
        "\n",
        "#print( *a[::-1], sep=' ')\n",
        "\n",
        "#a.reverse()\n",
        "#print(*a, sep=' ')"
      ],
      "execution_count": 143,
      "outputs": [
        {
          "output_type": "stream",
          "name": "stdout",
          "text": [
            "10\n",
            "1 3 5 7 9 2 4 6 8 10\n",
            "10 8 6 4 2 9 7 5 3 1\n"
          ]
        }
      ]
    },
    {
      "cell_type": "code",
      "metadata": {
        "colab": {
          "base_uri": "https://localhost:8080/"
        },
        "id": "vCxAhRK30iUL",
        "outputId": "68fe98ed-884d-4405-8606-b88683278ece"
      },
      "source": [
        "## 이상한 출석 부르기 3번 \n",
        "n = int( input() )\n",
        "a = list( map(int, input().split()))\n",
        "\n",
        "## 리스트 값을 전부 순회해야 한다. \n",
        "# 메모리를 하나 만들어서 이 메모리에는 항상 작은 값이 들어가게 하자\n",
        "#min = 999999999999999999999999999999999999999999\n",
        "#for i in a:\n",
        " # if min > i: min =i\n",
        "#print(min)\n",
        "\n",
        "max= -999999999999999999999999999999999999999999999999999999\n",
        "for i in a:\n",
        "  if max < i: max= i\n",
        "print(max)\n",
        "\n",
        "min = True\n",
        "for i in a:\n",
        "  if min == True or min > i:  min=i\n",
        "print(min)"
      ],
      "execution_count": 163,
      "outputs": [
        {
          "output_type": "stream",
          "name": "stdout",
          "text": [
            "10\n",
            "10 8 6 4 2 9 7 5 3 1\n",
            "10\n",
            "1\n"
          ]
        }
      ]
    },
    {
      "cell_type": "markdown",
      "metadata": {
        "id": "5vk7Vje_8jmc"
      },
      "source": [
        "## 백준 1차원 리스트 문"
      ]
    },
    {
      "cell_type": "code",
      "metadata": {
        "colab": {
          "base_uri": "https://localhost:8080/"
        },
        "id": "nVRHqpls8lmy",
        "outputId": "07bc3c45-6288-46b7-fe09-bb7edcf6e0ad"
      },
      "source": [
        "n = int( input() )\n",
        "a = list( map( int, input().split()))\n",
        "mini= 999999999999999999999999999999999999999999\n",
        "max= -99999999999999999999999999999999999999999999999\n",
        "for i in a:\n",
        "  if mini > i:  mini = i\n",
        "  if max < i:  max = i \n",
        "print(mini, max)"
      ],
      "execution_count": 183,
      "outputs": [
        {
          "output_type": "stream",
          "name": "stdout",
          "text": [
            "5\n",
            "20 10 35 30 7\n",
            "7 35\n"
          ]
        }
      ]
    },
    {
      "cell_type": "code",
      "metadata": {
        "colab": {
          "base_uri": "https://localhost:8080/"
        },
        "id": "3_fb2yo8Bwt5",
        "outputId": "2608b3ec-3995-46d0-a31b-ac632dc84756"
      },
      "source": [
        "A= int( input() )\n",
        "B= int( input() )\n",
        "C= int( input() )\n",
        "\n",
        "multi= A*B*C\n",
        "multi=[0]*9\n",
        "\n",
        "for i in range(9):\n",
        "  multi[i] += 1\n",
        "for i in range(9):\n",
        "  print( multi[i], end= ' ')\n"
      ],
      "execution_count": 187,
      "outputs": [
        {
          "output_type": "stream",
          "name": "stdout",
          "text": [
            "150\n",
            "266\n",
            "427\n",
            "1 1 1 1 1 1 1 1 1 "
          ]
        }
      ]
    },
    {
      "cell_type": "markdown",
      "metadata": {
        "id": "awjR40Jmwpu0"
      },
      "source": [
        ""
      ]
    }
  ]
}